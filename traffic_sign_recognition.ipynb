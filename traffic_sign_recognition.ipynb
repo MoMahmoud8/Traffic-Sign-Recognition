{
  "nbformat": 4,
  "nbformat_minor": 0,
  "metadata": {
    "colab": {
      "provenance": [],
      "authorship_tag": "ABX9TyPj2n+VahCDQjIBRVandCx4",
      "include_colab_link": true
    },
    "kernelspec": {
      "name": "python3",
      "display_name": "Python 3"
    },
    "language_info": {
      "name": "python"
    },
    "accelerator": "GPU",
    "gpuClass": "standard"
  },
  "cells": [
    {
      "cell_type": "markdown",
      "metadata": {
        "id": "view-in-github",
        "colab_type": "text"
      },
      "source": [
        "<a href=\"https://colab.research.google.com/github/MoMahmoud8/Traffic-Sign-Recognition/blob/main/traffic_sign_recognition.ipynb\" target=\"_parent\"><img src=\"https://colab.research.google.com/assets/colab-badge.svg\" alt=\"Open In Colab\"/></a>"
      ]
    },
    {
      "cell_type": "code",
      "execution_count": 1,
      "metadata": {
        "colab": {
          "base_uri": "https://localhost:8080/"
        },
        "id": "GMp4PSar3NqC",
        "outputId": "a587b749-6947-471f-a1ce-8524e841e9c9"
      },
      "outputs": [
        {
          "output_type": "stream",
          "name": "stdout",
          "text": [
            "Looking in indexes: https://pypi.org/simple, https://us-python.pkg.dev/colab-wheels/public/simple/\n",
            "Collecting opendatasets\n",
            "  Downloading opendatasets-0.1.22-py3-none-any.whl (15 kB)\n",
            "Requirement already satisfied: tqdm in /usr/local/lib/python3.9/dist-packages (from opendatasets) (4.65.0)\n",
            "Requirement already satisfied: click in /usr/local/lib/python3.9/dist-packages (from opendatasets) (8.1.3)\n",
            "Requirement already satisfied: kaggle in /usr/local/lib/python3.9/dist-packages (from opendatasets) (1.5.13)\n",
            "Requirement already satisfied: requests in /usr/local/lib/python3.9/dist-packages (from kaggle->opendatasets) (2.25.1)\n",
            "Requirement already satisfied: certifi in /usr/local/lib/python3.9/dist-packages (from kaggle->opendatasets) (2022.12.7)\n",
            "Requirement already satisfied: python-dateutil in /usr/local/lib/python3.9/dist-packages (from kaggle->opendatasets) (2.8.2)\n",
            "Requirement already satisfied: python-slugify in /usr/local/lib/python3.9/dist-packages (from kaggle->opendatasets) (8.0.1)\n",
            "Requirement already satisfied: urllib3 in /usr/local/lib/python3.9/dist-packages (from kaggle->opendatasets) (1.26.15)\n",
            "Requirement already satisfied: six>=1.10 in /usr/local/lib/python3.9/dist-packages (from kaggle->opendatasets) (1.15.0)\n",
            "Requirement already satisfied: text-unidecode>=1.3 in /usr/local/lib/python3.9/dist-packages (from python-slugify->kaggle->opendatasets) (1.3)\n",
            "Requirement already satisfied: idna<3,>=2.5 in /usr/local/lib/python3.9/dist-packages (from requests->kaggle->opendatasets) (2.10)\n",
            "Requirement already satisfied: chardet<5,>=3.0.2 in /usr/local/lib/python3.9/dist-packages (from requests->kaggle->opendatasets) (4.0.0)\n",
            "Installing collected packages: opendatasets\n",
            "Successfully installed opendatasets-0.1.22\n",
            "Please provide your Kaggle credentials to download this dataset. Learn more: http://bit.ly/kaggle-creds\n",
            "Your Kaggle username: mostafamahmoudhassan\n",
            "Your Kaggle Key: ··········\n",
            "Downloading gtsrb-german-traffic-sign.zip to ./gtsrb-german-traffic-sign\n"
          ]
        },
        {
          "output_type": "stream",
          "name": "stderr",
          "text": [
            "100%|██████████| 612M/612M [00:03<00:00, 197MB/s]\n"
          ]
        },
        {
          "output_type": "stream",
          "name": "stdout",
          "text": [
            "\n"
          ]
        }
      ],
      "source": [
        "!pip install opendatasets\n",
        "import opendatasets as od\n",
        "od.download('https://www.kaggle.com/datasets/meowmeowmeowmeowmeow/gtsrb-german-traffic-sign')"
      ]
    },
    {
      "cell_type": "code",
      "source": [
        "import numpy as np \n",
        "import pandas as pd \n",
        "import matplotlib.pyplot as plt\n",
        "import cv2\n",
        "import tensorflow as tf\n",
        "from PIL import Image\n",
        "import os\n",
        "from sklearn.model_selection import train_test_split\n",
        "from keras.utils import to_categorical\n",
        "from keras.models import Sequential, load_model\n",
        "from keras.layers import Conv2D, MaxPool2D, Dense, Flatten, Dropout"
      ],
      "metadata": {
        "id": "gzJwXAGX3UVb"
      },
      "execution_count": 2,
      "outputs": []
    },
    {
      "cell_type": "code",
      "source": [],
      "metadata": {
        "id": "s_hh7suZ3UZA"
      },
      "execution_count": null,
      "outputs": []
    },
    {
      "cell_type": "code",
      "source": [],
      "metadata": {
        "id": "Tld0sQ-c3UZr"
      },
      "execution_count": null,
      "outputs": []
    },
    {
      "cell_type": "code",
      "source": [
        "df_train = pd.read_csv('/content/gtsrb-german-traffic-sign/Train.csv')\n",
        "df_test = pd.read_csv('/content/gtsrb-german-traffic-sign/Test.csv')"
      ],
      "metadata": {
        "id": "tR-IpjB73UeY"
      },
      "execution_count": 3,
      "outputs": []
    },
    {
      "cell_type": "code",
      "source": [
        "df_train.head()"
      ],
      "metadata": {
        "colab": {
          "base_uri": "https://localhost:8080/",
          "height": 206
        },
        "id": "6AiXlsaS3UfD",
        "outputId": "18287792-4052-48ca-e5bc-5d7c647193a1"
      },
      "execution_count": null,
      "outputs": [
        {
          "output_type": "execute_result",
          "data": {
            "text/plain": [
              "   Width  Height  Roi.X1  Roi.Y1  Roi.X2  Roi.Y2  ClassId  \\\n",
              "0     27      26       5       5      22      20       20   \n",
              "1     28      27       5       6      23      22       20   \n",
              "2     29      26       6       5      24      21       20   \n",
              "3     28      27       5       6      23      22       20   \n",
              "4     28      26       5       5      23      21       20   \n",
              "\n",
              "                             Path  \n",
              "0  Train/20/00020_00000_00000.png  \n",
              "1  Train/20/00020_00000_00001.png  \n",
              "2  Train/20/00020_00000_00002.png  \n",
              "3  Train/20/00020_00000_00003.png  \n",
              "4  Train/20/00020_00000_00004.png  "
            ],
            "text/html": [
              "\n",
              "  <div id=\"df-46972b8a-05b0-4082-bf01-77522a82d101\">\n",
              "    <div class=\"colab-df-container\">\n",
              "      <div>\n",
              "<style scoped>\n",
              "    .dataframe tbody tr th:only-of-type {\n",
              "        vertical-align: middle;\n",
              "    }\n",
              "\n",
              "    .dataframe tbody tr th {\n",
              "        vertical-align: top;\n",
              "    }\n",
              "\n",
              "    .dataframe thead th {\n",
              "        text-align: right;\n",
              "    }\n",
              "</style>\n",
              "<table border=\"1\" class=\"dataframe\">\n",
              "  <thead>\n",
              "    <tr style=\"text-align: right;\">\n",
              "      <th></th>\n",
              "      <th>Width</th>\n",
              "      <th>Height</th>\n",
              "      <th>Roi.X1</th>\n",
              "      <th>Roi.Y1</th>\n",
              "      <th>Roi.X2</th>\n",
              "      <th>Roi.Y2</th>\n",
              "      <th>ClassId</th>\n",
              "      <th>Path</th>\n",
              "    </tr>\n",
              "  </thead>\n",
              "  <tbody>\n",
              "    <tr>\n",
              "      <th>0</th>\n",
              "      <td>27</td>\n",
              "      <td>26</td>\n",
              "      <td>5</td>\n",
              "      <td>5</td>\n",
              "      <td>22</td>\n",
              "      <td>20</td>\n",
              "      <td>20</td>\n",
              "      <td>Train/20/00020_00000_00000.png</td>\n",
              "    </tr>\n",
              "    <tr>\n",
              "      <th>1</th>\n",
              "      <td>28</td>\n",
              "      <td>27</td>\n",
              "      <td>5</td>\n",
              "      <td>6</td>\n",
              "      <td>23</td>\n",
              "      <td>22</td>\n",
              "      <td>20</td>\n",
              "      <td>Train/20/00020_00000_00001.png</td>\n",
              "    </tr>\n",
              "    <tr>\n",
              "      <th>2</th>\n",
              "      <td>29</td>\n",
              "      <td>26</td>\n",
              "      <td>6</td>\n",
              "      <td>5</td>\n",
              "      <td>24</td>\n",
              "      <td>21</td>\n",
              "      <td>20</td>\n",
              "      <td>Train/20/00020_00000_00002.png</td>\n",
              "    </tr>\n",
              "    <tr>\n",
              "      <th>3</th>\n",
              "      <td>28</td>\n",
              "      <td>27</td>\n",
              "      <td>5</td>\n",
              "      <td>6</td>\n",
              "      <td>23</td>\n",
              "      <td>22</td>\n",
              "      <td>20</td>\n",
              "      <td>Train/20/00020_00000_00003.png</td>\n",
              "    </tr>\n",
              "    <tr>\n",
              "      <th>4</th>\n",
              "      <td>28</td>\n",
              "      <td>26</td>\n",
              "      <td>5</td>\n",
              "      <td>5</td>\n",
              "      <td>23</td>\n",
              "      <td>21</td>\n",
              "      <td>20</td>\n",
              "      <td>Train/20/00020_00000_00004.png</td>\n",
              "    </tr>\n",
              "  </tbody>\n",
              "</table>\n",
              "</div>\n",
              "      <button class=\"colab-df-convert\" onclick=\"convertToInteractive('df-46972b8a-05b0-4082-bf01-77522a82d101')\"\n",
              "              title=\"Convert this dataframe to an interactive table.\"\n",
              "              style=\"display:none;\">\n",
              "        \n",
              "  <svg xmlns=\"http://www.w3.org/2000/svg\" height=\"24px\"viewBox=\"0 0 24 24\"\n",
              "       width=\"24px\">\n",
              "    <path d=\"M0 0h24v24H0V0z\" fill=\"none\"/>\n",
              "    <path d=\"M18.56 5.44l.94 2.06.94-2.06 2.06-.94-2.06-.94-.94-2.06-.94 2.06-2.06.94zm-11 1L8.5 8.5l.94-2.06 2.06-.94-2.06-.94L8.5 2.5l-.94 2.06-2.06.94zm10 10l.94 2.06.94-2.06 2.06-.94-2.06-.94-.94-2.06-.94 2.06-2.06.94z\"/><path d=\"M17.41 7.96l-1.37-1.37c-.4-.4-.92-.59-1.43-.59-.52 0-1.04.2-1.43.59L10.3 9.45l-7.72 7.72c-.78.78-.78 2.05 0 2.83L4 21.41c.39.39.9.59 1.41.59.51 0 1.02-.2 1.41-.59l7.78-7.78 2.81-2.81c.8-.78.8-2.07 0-2.86zM5.41 20L4 18.59l7.72-7.72 1.47 1.35L5.41 20z\"/>\n",
              "  </svg>\n",
              "      </button>\n",
              "      \n",
              "  <style>\n",
              "    .colab-df-container {\n",
              "      display:flex;\n",
              "      flex-wrap:wrap;\n",
              "      gap: 12px;\n",
              "    }\n",
              "\n",
              "    .colab-df-convert {\n",
              "      background-color: #E8F0FE;\n",
              "      border: none;\n",
              "      border-radius: 50%;\n",
              "      cursor: pointer;\n",
              "      display: none;\n",
              "      fill: #1967D2;\n",
              "      height: 32px;\n",
              "      padding: 0 0 0 0;\n",
              "      width: 32px;\n",
              "    }\n",
              "\n",
              "    .colab-df-convert:hover {\n",
              "      background-color: #E2EBFA;\n",
              "      box-shadow: 0px 1px 2px rgba(60, 64, 67, 0.3), 0px 1px 3px 1px rgba(60, 64, 67, 0.15);\n",
              "      fill: #174EA6;\n",
              "    }\n",
              "\n",
              "    [theme=dark] .colab-df-convert {\n",
              "      background-color: #3B4455;\n",
              "      fill: #D2E3FC;\n",
              "    }\n",
              "\n",
              "    [theme=dark] .colab-df-convert:hover {\n",
              "      background-color: #434B5C;\n",
              "      box-shadow: 0px 1px 3px 1px rgba(0, 0, 0, 0.15);\n",
              "      filter: drop-shadow(0px 1px 2px rgba(0, 0, 0, 0.3));\n",
              "      fill: #FFFFFF;\n",
              "    }\n",
              "  </style>\n",
              "\n",
              "      <script>\n",
              "        const buttonEl =\n",
              "          document.querySelector('#df-46972b8a-05b0-4082-bf01-77522a82d101 button.colab-df-convert');\n",
              "        buttonEl.style.display =\n",
              "          google.colab.kernel.accessAllowed ? 'block' : 'none';\n",
              "\n",
              "        async function convertToInteractive(key) {\n",
              "          const element = document.querySelector('#df-46972b8a-05b0-4082-bf01-77522a82d101');\n",
              "          const dataTable =\n",
              "            await google.colab.kernel.invokeFunction('convertToInteractive',\n",
              "                                                     [key], {});\n",
              "          if (!dataTable) return;\n",
              "\n",
              "          const docLinkHtml = 'Like what you see? Visit the ' +\n",
              "            '<a target=\"_blank\" href=https://colab.research.google.com/notebooks/data_table.ipynb>data table notebook</a>'\n",
              "            + ' to learn more about interactive tables.';\n",
              "          element.innerHTML = '';\n",
              "          dataTable['output_type'] = 'display_data';\n",
              "          await google.colab.output.renderOutput(dataTable, element);\n",
              "          const docLink = document.createElement('div');\n",
              "          docLink.innerHTML = docLinkHtml;\n",
              "          element.appendChild(docLink);\n",
              "        }\n",
              "      </script>\n",
              "    </div>\n",
              "  </div>\n",
              "  "
            ]
          },
          "metadata": {},
          "execution_count": 3
        }
      ]
    },
    {
      "cell_type": "code",
      "source": [
        "classes = { 1:'Speed limit (20km/h)',\n",
        "            2:'Speed limit (30km/h)', \n",
        "            3:'Speed limit (50km/h)', \n",
        "            4:'Speed limit (60km/h)', \n",
        "            5:'Speed limit (70km/h)', \n",
        "            6:'Speed limit (80km/h)', \n",
        "            7:'End of speed limit (80km/h)', \n",
        "            8:'Speed limit (100km/h)', \n",
        "            9:'Speed limit (120km/h)', \n",
        "            10:'No passing', \n",
        "            11:'No passing veh over 3.5 tons', \n",
        "            12:'Right-of-way at intersection', \n",
        "            13:'Priority road', \n",
        "            14:'Yield', \n",
        "            15:'Stop', \n",
        "            16:'No vehicles', \n",
        "            17:'Veh > 3.5 tons prohibited', \n",
        "            18:'No entry', \n",
        "            19:'General caution', \n",
        "            20:'Dangerous curve left', \n",
        "            21:'Dangerous curve right', \n",
        "            22:'Double curve', \n",
        "            23:'Bumpy road', \n",
        "            24:'Slippery road', \n",
        "            25:'Road narrows on the right', \n",
        "            26:'Road work', \n",
        "            27:'Traffic signals', \n",
        "            28:'Pedestrians', \n",
        "            29:'Children crossing', \n",
        "            30:'Bicycles crossing', \n",
        "            31:'Beware of ice/snow',\n",
        "            32:'Wild animals crossing', \n",
        "            33:'End speed + passing limits', \n",
        "            34:'Turn right ahead', \n",
        "            35:'Turn left ahead', \n",
        "            36:'Ahead only', \n",
        "            37:'Go straight or right', \n",
        "            38:'Go straight or left', \n",
        "            39:'Keep right', \n",
        "            40:'Keep left', \n",
        "            41:'Roundabout mandatory', \n",
        "            42:'End of no passing', \n",
        "            43:'End no passing veh > 3.5 tons' }"
      ],
      "metadata": {
        "id": "-bz8PuyN3Ujw"
      },
      "execution_count": 4,
      "outputs": []
    },
    {
      "cell_type": "code",
      "source": [
        "classes.values()"
      ],
      "metadata": {
        "colab": {
          "base_uri": "https://localhost:8080/"
        },
        "id": "wWqgSlAB3Ukg",
        "outputId": "eb52acdc-96aa-4352-d554-8addeff2e7b2"
      },
      "execution_count": null,
      "outputs": [
        {
          "output_type": "execute_result",
          "data": {
            "text/plain": [
              "dict_values(['Speed limit (20km/h)', 'Speed limit (30km/h)', 'Speed limit (50km/h)', 'Speed limit (60km/h)', 'Speed limit (70km/h)', 'Speed limit (80km/h)', 'End of speed limit (80km/h)', 'Speed limit (100km/h)', 'Speed limit (120km/h)', 'No passing', 'No passing veh over 3.5 tons', 'Right-of-way at intersection', 'Priority road', 'Yield', 'Stop', 'No vehicles', 'Veh > 3.5 tons prohibited', 'No entry', 'General caution', 'Dangerous curve left', 'Dangerous curve right', 'Double curve', 'Bumpy road', 'Slippery road', 'Road narrows on the right', 'Road work', 'Traffic signals', 'Pedestrians', 'Children crossing', 'Bicycles crossing', 'Beware of ice/snow', 'Wild animals crossing', 'End speed + passing limits', 'Turn right ahead', 'Turn left ahead', 'Ahead only', 'Go straight or right', 'Go straight or left', 'Keep right', 'Keep left', 'Roundabout mandatory', 'End of no passing', 'End no passing veh > 3.5 tons'])"
            ]
          },
          "metadata": {},
          "execution_count": 49
        }
      ]
    },
    {
      "cell_type": "code",
      "source": [
        "# getting only the Path and ClassId \n",
        "df_train = df_train[['ClassId', 'Path']]\n",
        "df_test = df_test[['ClassId', 'Path']]"
      ],
      "metadata": {
        "id": "kaQ67Vbx3UpM"
      },
      "execution_count": 5,
      "outputs": []
    },
    {
      "cell_type": "code",
      "source": [
        "# add the complete path\n",
        "df_train['Path'] = df_train['Path'].apply(lambda x: '/content/gtsrb-german-traffic-sign/' + x)\n",
        "df_test['Path'] = df_test['Path'].apply(lambda x: '/content/gtsrb-german-traffic-sign/' + x)"
      ],
      "metadata": {
        "id": "99AvHxJR3Up7"
      },
      "execution_count": 6,
      "outputs": []
    },
    {
      "cell_type": "code",
      "source": [
        "df_test"
      ],
      "metadata": {
        "colab": {
          "base_uri": "https://localhost:8080/",
          "height": 423
        },
        "id": "muoDm89t3Uua",
        "outputId": "cc4fde55-9388-49bf-c942-bdc0ff5e2db7"
      },
      "execution_count": null,
      "outputs": [
        {
          "output_type": "execute_result",
          "data": {
            "text/plain": [
              "       ClassId                                               Path\n",
              "0           16  /content/gtsrb-german-traffic-sign/Test/00000.png\n",
              "1            1  /content/gtsrb-german-traffic-sign/Test/00001.png\n",
              "2           38  /content/gtsrb-german-traffic-sign/Test/00002.png\n",
              "3           33  /content/gtsrb-german-traffic-sign/Test/00003.png\n",
              "4           11  /content/gtsrb-german-traffic-sign/Test/00004.png\n",
              "...        ...                                                ...\n",
              "12625       12  /content/gtsrb-german-traffic-sign/Test/12625.png\n",
              "12626       33  /content/gtsrb-german-traffic-sign/Test/12626.png\n",
              "12627        6  /content/gtsrb-german-traffic-sign/Test/12627.png\n",
              "12628        7  /content/gtsrb-german-traffic-sign/Test/12628.png\n",
              "12629       10  /content/gtsrb-german-traffic-sign/Test/12629.png\n",
              "\n",
              "[12630 rows x 2 columns]"
            ],
            "text/html": [
              "\n",
              "  <div id=\"df-158ac3c7-0c24-44aa-ad9a-6a20238e36a2\">\n",
              "    <div class=\"colab-df-container\">\n",
              "      <div>\n",
              "<style scoped>\n",
              "    .dataframe tbody tr th:only-of-type {\n",
              "        vertical-align: middle;\n",
              "    }\n",
              "\n",
              "    .dataframe tbody tr th {\n",
              "        vertical-align: top;\n",
              "    }\n",
              "\n",
              "    .dataframe thead th {\n",
              "        text-align: right;\n",
              "    }\n",
              "</style>\n",
              "<table border=\"1\" class=\"dataframe\">\n",
              "  <thead>\n",
              "    <tr style=\"text-align: right;\">\n",
              "      <th></th>\n",
              "      <th>ClassId</th>\n",
              "      <th>Path</th>\n",
              "    </tr>\n",
              "  </thead>\n",
              "  <tbody>\n",
              "    <tr>\n",
              "      <th>0</th>\n",
              "      <td>16</td>\n",
              "      <td>/content/gtsrb-german-traffic-sign/Test/00000.png</td>\n",
              "    </tr>\n",
              "    <tr>\n",
              "      <th>1</th>\n",
              "      <td>1</td>\n",
              "      <td>/content/gtsrb-german-traffic-sign/Test/00001.png</td>\n",
              "    </tr>\n",
              "    <tr>\n",
              "      <th>2</th>\n",
              "      <td>38</td>\n",
              "      <td>/content/gtsrb-german-traffic-sign/Test/00002.png</td>\n",
              "    </tr>\n",
              "    <tr>\n",
              "      <th>3</th>\n",
              "      <td>33</td>\n",
              "      <td>/content/gtsrb-german-traffic-sign/Test/00003.png</td>\n",
              "    </tr>\n",
              "    <tr>\n",
              "      <th>4</th>\n",
              "      <td>11</td>\n",
              "      <td>/content/gtsrb-german-traffic-sign/Test/00004.png</td>\n",
              "    </tr>\n",
              "    <tr>\n",
              "      <th>...</th>\n",
              "      <td>...</td>\n",
              "      <td>...</td>\n",
              "    </tr>\n",
              "    <tr>\n",
              "      <th>12625</th>\n",
              "      <td>12</td>\n",
              "      <td>/content/gtsrb-german-traffic-sign/Test/12625.png</td>\n",
              "    </tr>\n",
              "    <tr>\n",
              "      <th>12626</th>\n",
              "      <td>33</td>\n",
              "      <td>/content/gtsrb-german-traffic-sign/Test/12626.png</td>\n",
              "    </tr>\n",
              "    <tr>\n",
              "      <th>12627</th>\n",
              "      <td>6</td>\n",
              "      <td>/content/gtsrb-german-traffic-sign/Test/12627.png</td>\n",
              "    </tr>\n",
              "    <tr>\n",
              "      <th>12628</th>\n",
              "      <td>7</td>\n",
              "      <td>/content/gtsrb-german-traffic-sign/Test/12628.png</td>\n",
              "    </tr>\n",
              "    <tr>\n",
              "      <th>12629</th>\n",
              "      <td>10</td>\n",
              "      <td>/content/gtsrb-german-traffic-sign/Test/12629.png</td>\n",
              "    </tr>\n",
              "  </tbody>\n",
              "</table>\n",
              "<p>12630 rows × 2 columns</p>\n",
              "</div>\n",
              "      <button class=\"colab-df-convert\" onclick=\"convertToInteractive('df-158ac3c7-0c24-44aa-ad9a-6a20238e36a2')\"\n",
              "              title=\"Convert this dataframe to an interactive table.\"\n",
              "              style=\"display:none;\">\n",
              "        \n",
              "  <svg xmlns=\"http://www.w3.org/2000/svg\" height=\"24px\"viewBox=\"0 0 24 24\"\n",
              "       width=\"24px\">\n",
              "    <path d=\"M0 0h24v24H0V0z\" fill=\"none\"/>\n",
              "    <path d=\"M18.56 5.44l.94 2.06.94-2.06 2.06-.94-2.06-.94-.94-2.06-.94 2.06-2.06.94zm-11 1L8.5 8.5l.94-2.06 2.06-.94-2.06-.94L8.5 2.5l-.94 2.06-2.06.94zm10 10l.94 2.06.94-2.06 2.06-.94-2.06-.94-.94-2.06-.94 2.06-2.06.94z\"/><path d=\"M17.41 7.96l-1.37-1.37c-.4-.4-.92-.59-1.43-.59-.52 0-1.04.2-1.43.59L10.3 9.45l-7.72 7.72c-.78.78-.78 2.05 0 2.83L4 21.41c.39.39.9.59 1.41.59.51 0 1.02-.2 1.41-.59l7.78-7.78 2.81-2.81c.8-.78.8-2.07 0-2.86zM5.41 20L4 18.59l7.72-7.72 1.47 1.35L5.41 20z\"/>\n",
              "  </svg>\n",
              "      </button>\n",
              "      \n",
              "  <style>\n",
              "    .colab-df-container {\n",
              "      display:flex;\n",
              "      flex-wrap:wrap;\n",
              "      gap: 12px;\n",
              "    }\n",
              "\n",
              "    .colab-df-convert {\n",
              "      background-color: #E8F0FE;\n",
              "      border: none;\n",
              "      border-radius: 50%;\n",
              "      cursor: pointer;\n",
              "      display: none;\n",
              "      fill: #1967D2;\n",
              "      height: 32px;\n",
              "      padding: 0 0 0 0;\n",
              "      width: 32px;\n",
              "    }\n",
              "\n",
              "    .colab-df-convert:hover {\n",
              "      background-color: #E2EBFA;\n",
              "      box-shadow: 0px 1px 2px rgba(60, 64, 67, 0.3), 0px 1px 3px 1px rgba(60, 64, 67, 0.15);\n",
              "      fill: #174EA6;\n",
              "    }\n",
              "\n",
              "    [theme=dark] .colab-df-convert {\n",
              "      background-color: #3B4455;\n",
              "      fill: #D2E3FC;\n",
              "    }\n",
              "\n",
              "    [theme=dark] .colab-df-convert:hover {\n",
              "      background-color: #434B5C;\n",
              "      box-shadow: 0px 1px 3px 1px rgba(0, 0, 0, 0.15);\n",
              "      filter: drop-shadow(0px 1px 2px rgba(0, 0, 0, 0.3));\n",
              "      fill: #FFFFFF;\n",
              "    }\n",
              "  </style>\n",
              "\n",
              "      <script>\n",
              "        const buttonEl =\n",
              "          document.querySelector('#df-158ac3c7-0c24-44aa-ad9a-6a20238e36a2 button.colab-df-convert');\n",
              "        buttonEl.style.display =\n",
              "          google.colab.kernel.accessAllowed ? 'block' : 'none';\n",
              "\n",
              "        async function convertToInteractive(key) {\n",
              "          const element = document.querySelector('#df-158ac3c7-0c24-44aa-ad9a-6a20238e36a2');\n",
              "          const dataTable =\n",
              "            await google.colab.kernel.invokeFunction('convertToInteractive',\n",
              "                                                     [key], {});\n",
              "          if (!dataTable) return;\n",
              "\n",
              "          const docLinkHtml = 'Like what you see? Visit the ' +\n",
              "            '<a target=\"_blank\" href=https://colab.research.google.com/notebooks/data_table.ipynb>data table notebook</a>'\n",
              "            + ' to learn more about interactive tables.';\n",
              "          element.innerHTML = '';\n",
              "          dataTable['output_type'] = 'display_data';\n",
              "          await google.colab.output.renderOutput(dataTable, element);\n",
              "          const docLink = document.createElement('div');\n",
              "          docLink.innerHTML = docLinkHtml;\n",
              "          element.appendChild(docLink);\n",
              "        }\n",
              "      </script>\n",
              "    </div>\n",
              "  </div>\n",
              "  "
            ]
          },
          "metadata": {},
          "execution_count": 7
        }
      ]
    },
    {
      "cell_type": "code",
      "source": [
        "img=plt.imread(df_train['Path'][0])\n",
        "fig,ax=plt.subplots(figsize=(8,4))\n",
        "ax.imshow(img)\n",
        "ax.set_title(classes[df_train['ClassId'][0]])\n",
        "ax.axis('off')\n",
        "plt.show()"
      ],
      "metadata": {
        "colab": {
          "base_uri": "https://localhost:8080/",
          "height": 264
        },
        "id": "9QrZEWyv3Uvb",
        "outputId": "1768d6ff-7dba-4e4d-91a7-5079f147c54f"
      },
      "execution_count": null,
      "outputs": [
        {
          "output_type": "display_data",
          "data": {
            "text/plain": [
              "<Figure size 576x288 with 1 Axes>"
            ],
            "image/png": "[encoded data removed]"
          },
          "metadata": {
            "needs_background": "light"
          }
        }
      ]
    },
    {
      "cell_type": "code",
      "source": [
        "# Split the data into training and validation sets\n",
        "train_data = df_train.sample(frac=0.8, random_state=0) #randomly select 80%\n",
        "valid_data = df_train.drop(train_data.index)\n"
      ],
      "metadata": {
        "id": "GNgBgi7K3Uzt"
      },
      "execution_count": 7,
      "outputs": []
    },
    {
      "cell_type": "code",
      "source": [
        "valid_data"
      ],
      "metadata": {
        "colab": {
          "base_uri": "https://localhost:8080/",
          "height": 423
        },
        "id": "jL5Su2J93U0q",
        "outputId": "8717302b-9a26-46ca-8806-50e2487e83bf"
      },
      "execution_count": null,
      "outputs": [
        {
          "output_type": "execute_result",
          "data": {
            "text/plain": [
              "       ClassId                                               Path\n",
              "10          20  /content/gtsrb-german-traffic-sign/Train/20/00...\n",
              "11          20  /content/gtsrb-german-traffic-sign/Train/20/00...\n",
              "13          20  /content/gtsrb-german-traffic-sign/Train/20/00...\n",
              "19          20  /content/gtsrb-german-traffic-sign/Train/20/00...\n",
              "21          20  /content/gtsrb-german-traffic-sign/Train/20/00...\n",
              "...        ...                                                ...\n",
              "39167       42  /content/gtsrb-german-traffic-sign/Train/42/00...\n",
              "39175       42  /content/gtsrb-german-traffic-sign/Train/42/00...\n",
              "39176       42  /content/gtsrb-german-traffic-sign/Train/42/00...\n",
              "39182       42  /content/gtsrb-german-traffic-sign/Train/42/00...\n",
              "39206       42  /content/gtsrb-german-traffic-sign/Train/42/00...\n",
              "\n",
              "[7842 rows x 2 columns]"
            ],
            "text/html": [
              "\n",
              "  <div id=\"df-449c7a33-2bdb-4caf-b797-e20d72180c66\">\n",
              "    <div class=\"colab-df-container\">\n",
              "      <div>\n",
              "<style scoped>\n",
              "    .dataframe tbody tr th:only-of-type {\n",
              "        vertical-align: middle;\n",
              "    }\n",
              "\n",
              "    .dataframe tbody tr th {\n",
              "        vertical-align: top;\n",
              "    }\n",
              "\n",
              "    .dataframe thead th {\n",
              "        text-align: right;\n",
              "    }\n",
              "</style>\n",
              "<table border=\"1\" class=\"dataframe\">\n",
              "  <thead>\n",
              "    <tr style=\"text-align: right;\">\n",
              "      <th></th>\n",
              "      <th>ClassId</th>\n",
              "      <th>Path</th>\n",
              "    </tr>\n",
              "  </thead>\n",
              "  <tbody>\n",
              "    <tr>\n",
              "      <th>10</th>\n",
              "      <td>20</td>\n",
              "      <td>/content/gtsrb-german-traffic-sign/Train/20/00...</td>\n",
              "    </tr>\n",
              "    <tr>\n",
              "      <th>11</th>\n",
              "      <td>20</td>\n",
              "      <td>/content/gtsrb-german-traffic-sign/Train/20/00...</td>\n",
              "    </tr>\n",
              "    <tr>\n",
              "      <th>13</th>\n",
              "      <td>20</td>\n",
              "      <td>/content/gtsrb-german-traffic-sign/Train/20/00...</td>\n",
              "    </tr>\n",
              "    <tr>\n",
              "      <th>19</th>\n",
              "      <td>20</td>\n",
              "      <td>/content/gtsrb-german-traffic-sign/Train/20/00...</td>\n",
              "    </tr>\n",
              "    <tr>\n",
              "      <th>21</th>\n",
              "      <td>20</td>\n",
              "      <td>/content/gtsrb-german-traffic-sign/Train/20/00...</td>\n",
              "    </tr>\n",
              "    <tr>\n",
              "      <th>...</th>\n",
              "      <td>...</td>\n",
              "      <td>...</td>\n",
              "    </tr>\n",
              "    <tr>\n",
              "      <th>39167</th>\n",
              "      <td>42</td>\n",
              "      <td>/content/gtsrb-german-traffic-sign/Train/42/00...</td>\n",
              "    </tr>\n",
              "    <tr>\n",
              "      <th>39175</th>\n",
              "      <td>42</td>\n",
              "      <td>/content/gtsrb-german-traffic-sign/Train/42/00...</td>\n",
              "    </tr>\n",
              "    <tr>\n",
              "      <th>39176</th>\n",
              "      <td>42</td>\n",
              "      <td>/content/gtsrb-german-traffic-sign/Train/42/00...</td>\n",
              "    </tr>\n",
              "    <tr>\n",
              "      <th>39182</th>\n",
              "      <td>42</td>\n",
              "      <td>/content/gtsrb-german-traffic-sign/Train/42/00...</td>\n",
              "    </tr>\n",
              "    <tr>\n",
              "      <th>39206</th>\n",
              "      <td>42</td>\n",
              "      <td>/content/gtsrb-german-traffic-sign/Train/42/00...</td>\n",
              "    </tr>\n",
              "  </tbody>\n",
              "</table>\n",
              "<p>7842 rows × 2 columns</p>\n",
              "</div>\n",
              "      <button class=\"colab-df-convert\" onclick=\"convertToInteractive('df-449c7a33-2bdb-4caf-b797-e20d72180c66')\"\n",
              "              title=\"Convert this dataframe to an interactive table.\"\n",
              "              style=\"display:none;\">\n",
              "        \n",
              "  <svg xmlns=\"http://www.w3.org/2000/svg\" height=\"24px\"viewBox=\"0 0 24 24\"\n",
              "       width=\"24px\">\n",
              "    <path d=\"M0 0h24v24H0V0z\" fill=\"none\"/>\n",
              "    <path d=\"M18.56 5.44l.94 2.06.94-2.06 2.06-.94-2.06-.94-.94-2.06-.94 2.06-2.06.94zm-11 1L8.5 8.5l.94-2.06 2.06-.94-2.06-.94L8.5 2.5l-.94 2.06-2.06.94zm10 10l.94 2.06.94-2.06 2.06-.94-2.06-.94-.94-2.06-.94 2.06-2.06.94z\"/><path d=\"M17.41 7.96l-1.37-1.37c-.4-.4-.92-.59-1.43-.59-.52 0-1.04.2-1.43.59L10.3 9.45l-7.72 7.72c-.78.78-.78 2.05 0 2.83L4 21.41c.39.39.9.59 1.41.59.51 0 1.02-.2 1.41-.59l7.78-7.78 2.81-2.81c.8-.78.8-2.07 0-2.86zM5.41 20L4 18.59l7.72-7.72 1.47 1.35L5.41 20z\"/>\n",
              "  </svg>\n",
              "      </button>\n",
              "      \n",
              "  <style>\n",
              "    .colab-df-container {\n",
              "      display:flex;\n",
              "      flex-wrap:wrap;\n",
              "      gap: 12px;\n",
              "    }\n",
              "\n",
              "    .colab-df-convert {\n",
              "      background-color: #E8F0FE;\n",
              "      border: none;\n",
              "      border-radius: 50%;\n",
              "      cursor: pointer;\n",
              "      display: none;\n",
              "      fill: #1967D2;\n",
              "      height: 32px;\n",
              "      padding: 0 0 0 0;\n",
              "      width: 32px;\n",
              "    }\n",
              "\n",
              "    .colab-df-convert:hover {\n",
              "      background-color: #E2EBFA;\n",
              "      box-shadow: 0px 1px 2px rgba(60, 64, 67, 0.3), 0px 1px 3px 1px rgba(60, 64, 67, 0.15);\n",
              "      fill: #174EA6;\n",
              "    }\n",
              "\n",
              "    [theme=dark] .colab-df-convert {\n",
              "      background-color: #3B4455;\n",
              "      fill: #D2E3FC;\n",
              "    }\n",
              "\n",
              "    [theme=dark] .colab-df-convert:hover {\n",
              "      background-color: #434B5C;\n",
              "      box-shadow: 0px 1px 3px 1px rgba(0, 0, 0, 0.15);\n",
              "      filter: drop-shadow(0px 1px 2px rgba(0, 0, 0, 0.3));\n",
              "      fill: #FFFFFF;\n",
              "    }\n",
              "  </style>\n",
              "\n",
              "      <script>\n",
              "        const buttonEl =\n",
              "          document.querySelector('#df-449c7a33-2bdb-4caf-b797-e20d72180c66 button.colab-df-convert');\n",
              "        buttonEl.style.display =\n",
              "          google.colab.kernel.accessAllowed ? 'block' : 'none';\n",
              "\n",
              "        async function convertToInteractive(key) {\n",
              "          const element = document.querySelector('#df-449c7a33-2bdb-4caf-b797-e20d72180c66');\n",
              "          const dataTable =\n",
              "            await google.colab.kernel.invokeFunction('convertToInteractive',\n",
              "                                                     [key], {});\n",
              "          if (!dataTable) return;\n",
              "\n",
              "          const docLinkHtml = 'Like what you see? Visit the ' +\n",
              "            '<a target=\"_blank\" href=https://colab.research.google.com/notebooks/data_table.ipynb>data table notebook</a>'\n",
              "            + ' to learn more about interactive tables.';\n",
              "          element.innerHTML = '';\n",
              "          dataTable['output_type'] = 'display_data';\n",
              "          await google.colab.output.renderOutput(dataTable, element);\n",
              "          const docLink = document.createElement('div');\n",
              "          docLink.innerHTML = docLinkHtml;\n",
              "          element.appendChild(docLink);\n",
              "        }\n",
              "      </script>\n",
              "    </div>\n",
              "  </div>\n",
              "  "
            ]
          },
          "metadata": {},
          "execution_count": 55
        }
      ]
    },
    {
      "cell_type": "code",
      "source": [
        "train_data"
      ],
      "metadata": {
        "colab": {
          "base_uri": "https://localhost:8080/",
          "height": 423
        },
        "id": "lEXIGRc23U4q",
        "outputId": "d172dd98-aae1-4b99-c5c6-fdc56f94ba3c"
      },
      "execution_count": null,
      "outputs": [
        {
          "output_type": "execute_result",
          "data": {
            "text/plain": [
              "       ClassId                                               Path\n",
              "19138       12  /content/gtsrb-german-traffic-sign/Train/12/00...\n",
              "21703       13  /content/gtsrb-german-traffic-sign/Train/13/00...\n",
              "32087       31  /content/gtsrb-german-traffic-sign/Train/31/00...\n",
              "19762       12  /content/gtsrb-german-traffic-sign/Train/12/00...\n",
              "13970        9  /content/gtsrb-german-traffic-sign/Train/9/000...\n",
              "...        ...                                                ...\n",
              "38580       40  /content/gtsrb-german-traffic-sign/Train/40/00...\n",
              "23421       15  /content/gtsrb-german-traffic-sign/Train/15/00...\n",
              "17803       11  /content/gtsrb-german-traffic-sign/Train/11/00...\n",
              "22431       13  /content/gtsrb-german-traffic-sign/Train/13/00...\n",
              "16806       10  /content/gtsrb-german-traffic-sign/Train/10/00...\n",
              "\n",
              "[31367 rows x 2 columns]"
            ],
            "text/html": [
              "\n",
              "  <div id=\"df-3c70877f-4d94-4649-8033-53557d2b7d4f\">\n",
              "    <div class=\"colab-df-container\">\n",
              "      <div>\n",
              "<style scoped>\n",
              "    .dataframe tbody tr th:only-of-type {\n",
              "        vertical-align: middle;\n",
              "    }\n",
              "\n",
              "    .dataframe tbody tr th {\n",
              "        vertical-align: top;\n",
              "    }\n",
              "\n",
              "    .dataframe thead th {\n",
              "        text-align: right;\n",
              "    }\n",
              "</style>\n",
              "<table border=\"1\" class=\"dataframe\">\n",
              "  <thead>\n",
              "    <tr style=\"text-align: right;\">\n",
              "      <th></th>\n",
              "      <th>ClassId</th>\n",
              "      <th>Path</th>\n",
              "    </tr>\n",
              "  </thead>\n",
              "  <tbody>\n",
              "    <tr>\n",
              "      <th>19138</th>\n",
              "      <td>12</td>\n",
              "      <td>/content/gtsrb-german-traffic-sign/Train/12/00...</td>\n",
              "    </tr>\n",
              "    <tr>\n",
              "      <th>21703</th>\n",
              "      <td>13</td>\n",
              "      <td>/content/gtsrb-german-traffic-sign/Train/13/00...</td>\n",
              "    </tr>\n",
              "    <tr>\n",
              "      <th>32087</th>\n",
              "      <td>31</td>\n",
              "      <td>/content/gtsrb-german-traffic-sign/Train/31/00...</td>\n",
              "    </tr>\n",
              "    <tr>\n",
              "      <th>19762</th>\n",
              "      <td>12</td>\n",
              "      <td>/content/gtsrb-german-traffic-sign/Train/12/00...</td>\n",
              "    </tr>\n",
              "    <tr>\n",
              "      <th>13970</th>\n",
              "      <td>9</td>\n",
              "      <td>/content/gtsrb-german-traffic-sign/Train/9/000...</td>\n",
              "    </tr>\n",
              "    <tr>\n",
              "      <th>...</th>\n",
              "      <td>...</td>\n",
              "      <td>...</td>\n",
              "    </tr>\n",
              "    <tr>\n",
              "      <th>38580</th>\n",
              "      <td>40</td>\n",
              "      <td>/content/gtsrb-german-traffic-sign/Train/40/00...</td>\n",
              "    </tr>\n",
              "    <tr>\n",
              "      <th>23421</th>\n",
              "      <td>15</td>\n",
              "      <td>/content/gtsrb-german-traffic-sign/Train/15/00...</td>\n",
              "    </tr>\n",
              "    <tr>\n",
              "      <th>17803</th>\n",
              "      <td>11</td>\n",
              "      <td>/content/gtsrb-german-traffic-sign/Train/11/00...</td>\n",
              "    </tr>\n",
              "    <tr>\n",
              "      <th>22431</th>\n",
              "      <td>13</td>\n",
              "      <td>/content/gtsrb-german-traffic-sign/Train/13/00...</td>\n",
              "    </tr>\n",
              "    <tr>\n",
              "      <th>16806</th>\n",
              "      <td>10</td>\n",
              "      <td>/content/gtsrb-german-traffic-sign/Train/10/00...</td>\n",
              "    </tr>\n",
              "  </tbody>\n",
              "</table>\n",
              "<p>31367 rows × 2 columns</p>\n",
              "</div>\n",
              "      <button class=\"colab-df-convert\" onclick=\"convertToInteractive('df-3c70877f-4d94-4649-8033-53557d2b7d4f')\"\n",
              "              title=\"Convert this dataframe to an interactive table.\"\n",
              "              style=\"display:none;\">\n",
              "        \n",
              "  <svg xmlns=\"http://www.w3.org/2000/svg\" height=\"24px\"viewBox=\"0 0 24 24\"\n",
              "       width=\"24px\">\n",
              "    <path d=\"M0 0h24v24H0V0z\" fill=\"none\"/>\n",
              "    <path d=\"M18.56 5.44l.94 2.06.94-2.06 2.06-.94-2.06-.94-.94-2.06-.94 2.06-2.06.94zm-11 1L8.5 8.5l.94-2.06 2.06-.94-2.06-.94L8.5 2.5l-.94 2.06-2.06.94zm10 10l.94 2.06.94-2.06 2.06-.94-2.06-.94-.94-2.06-.94 2.06-2.06.94z\"/><path d=\"M17.41 7.96l-1.37-1.37c-.4-.4-.92-.59-1.43-.59-.52 0-1.04.2-1.43.59L10.3 9.45l-7.72 7.72c-.78.78-.78 2.05 0 2.83L4 21.41c.39.39.9.59 1.41.59.51 0 1.02-.2 1.41-.59l7.78-7.78 2.81-2.81c.8-.78.8-2.07 0-2.86zM5.41 20L4 18.59l7.72-7.72 1.47 1.35L5.41 20z\"/>\n",
              "  </svg>\n",
              "      </button>\n",
              "      \n",
              "  <style>\n",
              "    .colab-df-container {\n",
              "      display:flex;\n",
              "      flex-wrap:wrap;\n",
              "      gap: 12px;\n",
              "    }\n",
              "\n",
              "    .colab-df-convert {\n",
              "      background-color: #E8F0FE;\n",
              "      border: none;\n",
              "      border-radius: 50%;\n",
              "      cursor: pointer;\n",
              "      display: none;\n",
              "      fill: #1967D2;\n",
              "      height: 32px;\n",
              "      padding: 0 0 0 0;\n",
              "      width: 32px;\n",
              "    }\n",
              "\n",
              "    .colab-df-convert:hover {\n",
              "      background-color: #E2EBFA;\n",
              "      box-shadow: 0px 1px 2px rgba(60, 64, 67, 0.3), 0px 1px 3px 1px rgba(60, 64, 67, 0.15);\n",
              "      fill: #174EA6;\n",
              "    }\n",
              "\n",
              "    [theme=dark] .colab-df-convert {\n",
              "      background-color: #3B4455;\n",
              "      fill: #D2E3FC;\n",
              "    }\n",
              "\n",
              "    [theme=dark] .colab-df-convert:hover {\n",
              "      background-color: #434B5C;\n",
              "      box-shadow: 0px 1px 3px 1px rgba(0, 0, 0, 0.15);\n",
              "      filter: drop-shadow(0px 1px 2px rgba(0, 0, 0, 0.3));\n",
              "      fill: #FFFFFF;\n",
              "    }\n",
              "  </style>\n",
              "\n",
              "      <script>\n",
              "        const buttonEl =\n",
              "          document.querySelector('#df-3c70877f-4d94-4649-8033-53557d2b7d4f button.colab-df-convert');\n",
              "        buttonEl.style.display =\n",
              "          google.colab.kernel.accessAllowed ? 'block' : 'none';\n",
              "\n",
              "        async function convertToInteractive(key) {\n",
              "          const element = document.querySelector('#df-3c70877f-4d94-4649-8033-53557d2b7d4f');\n",
              "          const dataTable =\n",
              "            await google.colab.kernel.invokeFunction('convertToInteractive',\n",
              "                                                     [key], {});\n",
              "          if (!dataTable) return;\n",
              "\n",
              "          const docLinkHtml = 'Like what you see? Visit the ' +\n",
              "            '<a target=\"_blank\" href=https://colab.research.google.com/notebooks/data_table.ipynb>data table notebook</a>'\n",
              "            + ' to learn more about interactive tables.';\n",
              "          element.innerHTML = '';\n",
              "          dataTable['output_type'] = 'display_data';\n",
              "          await google.colab.output.renderOutput(dataTable, element);\n",
              "          const docLink = document.createElement('div');\n",
              "          docLink.innerHTML = docLinkHtml;\n",
              "          element.appendChild(docLink);\n",
              "        }\n",
              "      </script>\n",
              "    </div>\n",
              "  </div>\n",
              "  "
            ]
          },
          "metadata": {},
          "execution_count": 56
        }
      ]
    },
    {
      "cell_type": "code",
      "source": [
        "# Preprocess the data\n",
        "\n",
        "from keras.utils import load_img, img_to_array, to_categorical\n",
        "\n",
        "NUM_CLASSES = len(classes)\n",
        "\n",
        "def preprocess_data(df,IMG_SIZE = 32):\n",
        "    X = []\n",
        "    y = []\n",
        "    for index, row in df.iterrows():\n",
        "        img = load_img(row.Path, target_size=(IMG_SIZE, IMG_SIZE))\n",
        "        img_array = img_to_array(img) / 255.0\n",
        "        X.append(img_array)\n",
        "        y.append(to_categorical(row.ClassId, num_classes=NUM_CLASSES))\n",
        "    return np.array(X), np.array(y)\n",
        "\n",
        "   "
      ],
      "metadata": {
        "id": "H6SopxPm3U5x"
      },
      "execution_count": 8,
      "outputs": []
    },
    {
      "cell_type": "code",
      "source": [
        "X_train, y_train = preprocess_data(train_data)\n",
        "X_valid, y_valid = preprocess_data(valid_data)\n",
        "X_test, y_test = preprocess_data(df_test) \n",
        "print(f'The shape of X_train : {X_train.shape}')\n",
        "print(f'The shape of y_train : {y_train.shape}')\n"
      ],
      "metadata": {
        "id": "LFNPwJQp3U-V"
      },
      "execution_count": null,
      "outputs": []
    },
    {
      "cell_type": "code",
      "source": [],
      "metadata": {
        "id": "q5OobUVQTAxs"
      },
      "execution_count": null,
      "outputs": []
    },
    {
      "cell_type": "code",
      "source": [
        "#Building the model\n",
        "model = Sequential()\n",
        "model.add(Conv2D(filters=32, kernel_size=(5,5), activation='relu', input_shape=X_train.shape[1:]))\n",
        "model.add(Conv2D(filters=32, kernel_size=(5,5), activation='relu'))\n",
        "model.add(MaxPool2D(pool_size=(2, 2)))\n",
        "model.add(Dropout(rate=0.25))\n",
        "model.add(Conv2D(filters=64, kernel_size=(3, 3), activation='relu'))\n",
        "model.add(Conv2D(filters=64, kernel_size=(3, 3), activation='relu'))\n",
        "model.add(MaxPool2D(pool_size=(2, 2)))\n",
        "model.add(Dropout(rate=0.25))\n",
        "model.add(Flatten())\n",
        "model.add(Dense(256, activation='relu'))\n",
        "model.add(Dropout(rate=0.5))\n",
        "model.add(Dense(43, activation='softmax'))\n",
        "#Compilation of the model\n",
        "model.compile(loss='categorical_crossentropy', optimizer='adam', metrics=['accuracy'])"
      ],
      "metadata": {
        "id": "2ncY6GsW3VC_"
      },
      "execution_count": null,
      "outputs": []
    },
    {
      "cell_type": "code",
      "source": [
        "model.summary()\n"
      ],
      "metadata": {
        "colab": {
          "base_uri": "https://localhost:8080/"
        },
        "id": "npJeN5dY3VD7",
        "outputId": "a385d179-0b57-4c44-9caf-8c96c5178bb2"
      },
      "execution_count": null,
      "outputs": [
        {
          "output_type": "stream",
          "name": "stdout",
          "text": [
            "Model: \"sequential_2\"\n",
            "_________________________________________________________________\n",
            " Layer (type)                Output Shape              Param #   \n",
            "=================================================================\n",
            " conv2d_4 (Conv2D)           (None, 28, 28, 32)        2432      \n",
            "                                                                 \n",
            " conv2d_5 (Conv2D)           (None, 24, 24, 32)        25632     \n",
            "                                                                 \n",
            " max_pooling2d_2 (MaxPooling  (None, 12, 12, 32)       0         \n",
            " 2D)                                                             \n",
            "                                                                 \n",
            " dropout_3 (Dropout)         (None, 12, 12, 32)        0         \n",
            "                                                                 \n",
            " conv2d_6 (Conv2D)           (None, 10, 10, 64)        18496     \n",
            "                                                                 \n",
            " conv2d_7 (Conv2D)           (None, 8, 8, 64)          36928     \n",
            "                                                                 \n",
            " max_pooling2d_3 (MaxPooling  (None, 4, 4, 64)         0         \n",
            " 2D)                                                             \n",
            "                                                                 \n",
            " dropout_4 (Dropout)         (None, 4, 4, 64)          0         \n",
            "                                                                 \n",
            " flatten_1 (Flatten)         (None, 1024)              0         \n",
            "                                                                 \n",
            " dense_3 (Dense)             (None, 256)               262400    \n",
            "                                                                 \n",
            " dropout_5 (Dropout)         (None, 256)               0         \n",
            "                                                                 \n",
            " dense_4 (Dense)             (None, 43)                11051     \n",
            "                                                                 \n",
            "=================================================================\n",
            "Total params: 356,939\n",
            "Trainable params: 356,939\n",
            "Non-trainable params: 0\n",
            "_________________________________________________________________\n"
          ]
        }
      ]
    },
    {
      "cell_type": "code",
      "source": [
        "import keras\n",
        "es = keras.callbacks.EarlyStopping(\n",
        "        monitor=\"val_accuracy\", # metrics to monitor\n",
        "        patience=10, # how many epochs before stop\n",
        "        verbose=1,\n",
        "        mode=\"max\", # we need the maximum accuracy.\n",
        "        restore_best_weights=True, # \n",
        "     )\n",
        "#ReduceLROnPlateau\n",
        "rp = keras.callbacks.ReduceLROnPlateau(\n",
        "        monitor=\"val_accuracy\",\n",
        "        factor=0.2,\n",
        "        patience=3,\n",
        "        verbose=1,\n",
        "        mode=\"max\",\n",
        "        min_lr=0.00001,\n",
        "     )"
      ],
      "metadata": {
        "id": "VMdsg8aNCmiM"
      },
      "execution_count": 9,
      "outputs": []
    },
    {
      "cell_type": "code",
      "source": [
        "epochs = 40\n",
        "# Fit the model\n",
        "history = model.fit(X_train, y_train,\n",
        "                    batch_size=32,\n",
        "                    epochs=epochs,\n",
        "                    validation_data=(X_valid, y_valid),\n",
        "                    callbacks=[es, rp]\n",
        "                    )\n"
      ],
      "metadata": {
        "colab": {
          "base_uri": "https://localhost:8080/"
        },
        "id": "F-qc6yIiCmjk",
        "outputId": "fac2f8b6-6313-45bb-9ced-6b26fe3a8a07"
      },
      "execution_count": null,
      "outputs": [
        {
          "output_type": "stream",
          "name": "stdout",
          "text": [
            "Epoch 1/40\n",
            "981/981 [==============================] - 9s 7ms/step - loss: 1.1984 - accuracy: 0.6571 - val_loss: 0.1842 - val_accuracy: 0.9468 - lr: 0.0010\n",
            "Epoch 2/40\n",
            "981/981 [==============================] - 6s 6ms/step - loss: 0.2590 - accuracy: 0.9187 - val_loss: 0.0810 - val_accuracy: 0.9770 - lr: 0.0010\n",
            "Epoch 3/40\n",
            "981/981 [==============================] - 6s 6ms/step - loss: 0.1628 - accuracy: 0.9496 - val_loss: 0.0508 - val_accuracy: 0.9876 - lr: 0.0010\n",
            "Epoch 4/40\n",
            "981/981 [==============================] - 7s 7ms/step - loss: 0.1241 - accuracy: 0.9625 - val_loss: 0.0496 - val_accuracy: 0.9861 - lr: 0.0010\n",
            "Epoch 5/40\n",
            "981/981 [==============================] - 7s 7ms/step - loss: 0.1025 - accuracy: 0.9689 - val_loss: 0.0330 - val_accuracy: 0.9918 - lr: 0.0010\n",
            "Epoch 6/40\n",
            "981/981 [==============================] - 6s 6ms/step - loss: 0.0894 - accuracy: 0.9725 - val_loss: 0.0310 - val_accuracy: 0.9921 - lr: 0.0010\n",
            "Epoch 7/40\n",
            "981/981 [==============================] - 7s 7ms/step - loss: 0.0736 - accuracy: 0.9768 - val_loss: 0.0442 - val_accuracy: 0.9884 - lr: 0.0010\n",
            "Epoch 8/40\n",
            "981/981 [==============================] - 7s 8ms/step - loss: 0.0756 - accuracy: 0.9769 - val_loss: 0.0286 - val_accuracy: 0.9923 - lr: 0.0010\n",
            "Epoch 9/40\n",
            "981/981 [==============================] - 10s 10ms/step - loss: 0.0727 - accuracy: 0.9775 - val_loss: 0.0254 - val_accuracy: 0.9935 - lr: 0.0010\n",
            "Epoch 10/40\n",
            "981/981 [==============================] - 7s 7ms/step - loss: 0.0573 - accuracy: 0.9828 - val_loss: 0.0314 - val_accuracy: 0.9922 - lr: 0.0010\n",
            "Epoch 11/40\n",
            "981/981 [==============================] - 7s 7ms/step - loss: 0.0634 - accuracy: 0.9811 - val_loss: 0.0399 - val_accuracy: 0.9893 - lr: 0.0010\n",
            "Epoch 12/40\n",
            "981/981 [==============================] - 7s 8ms/step - loss: 0.0614 - accuracy: 0.9815 - val_loss: 0.0214 - val_accuracy: 0.9962 - lr: 0.0010\n",
            "Epoch 13/40\n",
            "981/981 [==============================] - 6s 6ms/step - loss: 0.0574 - accuracy: 0.9834 - val_loss: 0.0276 - val_accuracy: 0.9932 - lr: 0.0010\n",
            "Epoch 14/40\n",
            "981/981 [==============================] - 7s 7ms/step - loss: 0.0539 - accuracy: 0.9834 - val_loss: 0.0255 - val_accuracy: 0.9945 - lr: 0.0010\n",
            "Epoch 15/40\n",
            "974/981 [============================>.] - ETA: 0s - loss: 0.0530 - accuracy: 0.9845\n",
            "Epoch 15: ReduceLROnPlateau reducing learning rate to 0.00020000000949949026.\n",
            "981/981 [==============================] - 6s 6ms/step - loss: 0.0531 - accuracy: 0.9844 - val_loss: 0.0237 - val_accuracy: 0.9946 - lr: 0.0010\n",
            "Epoch 16/40\n",
            "981/981 [==============================] - 7s 7ms/step - loss: 0.0250 - accuracy: 0.9925 - val_loss: 0.0171 - val_accuracy: 0.9962 - lr: 2.0000e-04\n",
            "Epoch 17/40\n",
            "981/981 [==============================] - 6s 6ms/step - loss: 0.0193 - accuracy: 0.9939 - val_loss: 0.0197 - val_accuracy: 0.9968 - lr: 2.0000e-04\n",
            "Epoch 18/40\n",
            "981/981 [==============================] - 7s 7ms/step - loss: 0.0163 - accuracy: 0.9947 - val_loss: 0.0222 - val_accuracy: 0.9958 - lr: 2.0000e-04\n",
            "Epoch 19/40\n",
            "981/981 [==============================] - 6s 6ms/step - loss: 0.0172 - accuracy: 0.9952 - val_loss: 0.0172 - val_accuracy: 0.9967 - lr: 2.0000e-04\n",
            "Epoch 20/40\n",
            "972/981 [============================>.] - ETA: 0s - loss: 0.0126 - accuracy: 0.9960\n",
            "Epoch 20: ReduceLROnPlateau reducing learning rate to 4.0000001899898055e-05.\n",
            "981/981 [==============================] - 7s 7ms/step - loss: 0.0125 - accuracy: 0.9960 - val_loss: 0.0195 - val_accuracy: 0.9963 - lr: 2.0000e-04\n",
            "Epoch 21/40\n",
            "981/981 [==============================] - 6s 6ms/step - loss: 0.0128 - accuracy: 0.9958 - val_loss: 0.0175 - val_accuracy: 0.9964 - lr: 4.0000e-05\n",
            "Epoch 22/40\n",
            "981/981 [==============================] - 7s 7ms/step - loss: 0.0100 - accuracy: 0.9964 - val_loss: 0.0173 - val_accuracy: 0.9966 - lr: 4.0000e-05\n",
            "Epoch 23/40\n",
            "981/981 [==============================] - 6s 6ms/step - loss: 0.0097 - accuracy: 0.9969 - val_loss: 0.0164 - val_accuracy: 0.9971 - lr: 4.0000e-05\n",
            "Epoch 24/40\n",
            "981/981 [==============================] - 7s 7ms/step - loss: 0.0094 - accuracy: 0.9969 - val_loss: 0.0165 - val_accuracy: 0.9971 - lr: 4.0000e-05\n",
            "Epoch 25/40\n",
            "981/981 [==============================] - 6s 6ms/step - loss: 0.0113 - accuracy: 0.9968 - val_loss: 0.0163 - val_accuracy: 0.9968 - lr: 4.0000e-05\n",
            "Epoch 26/40\n",
            "975/981 [============================>.] - ETA: 0s - loss: 0.0077 - accuracy: 0.9973\n",
            "Epoch 26: ReduceLROnPlateau reducing learning rate to 1e-05.\n",
            "981/981 [==============================] - 7s 8ms/step - loss: 0.0077 - accuracy: 0.9973 - val_loss: 0.0164 - val_accuracy: 0.9969 - lr: 4.0000e-05\n",
            "Epoch 27/40\n",
            "981/981 [==============================] - 7s 7ms/step - loss: 0.0084 - accuracy: 0.9973 - val_loss: 0.0165 - val_accuracy: 0.9972 - lr: 1.0000e-05\n",
            "Epoch 28/40\n",
            "981/981 [==============================] - 7s 7ms/step - loss: 0.0085 - accuracy: 0.9974 - val_loss: 0.0166 - val_accuracy: 0.9969 - lr: 1.0000e-05\n",
            "Epoch 29/40\n",
            "981/981 [==============================] - 7s 7ms/step - loss: 0.0078 - accuracy: 0.9972 - val_loss: 0.0166 - val_accuracy: 0.9969 - lr: 1.0000e-05\n",
            "Epoch 30/40\n",
            "981/981 [==============================] - 6s 6ms/step - loss: 0.0079 - accuracy: 0.9973 - val_loss: 0.0167 - val_accuracy: 0.9972 - lr: 1.0000e-05\n",
            "Epoch 31/40\n",
            "981/981 [==============================] - 7s 7ms/step - loss: 0.0064 - accuracy: 0.9979 - val_loss: 0.0167 - val_accuracy: 0.9974 - lr: 1.0000e-05\n",
            "Epoch 32/40\n",
            "981/981 [==============================] - 6s 6ms/step - loss: 0.0077 - accuracy: 0.9974 - val_loss: 0.0165 - val_accuracy: 0.9971 - lr: 1.0000e-05\n",
            "Epoch 33/40\n",
            "981/981 [==============================] - 7s 7ms/step - loss: 0.0072 - accuracy: 0.9978 - val_loss: 0.0165 - val_accuracy: 0.9973 - lr: 1.0000e-05\n",
            "Epoch 34/40\n",
            "981/981 [==============================] - 6s 6ms/step - loss: 0.0076 - accuracy: 0.9974 - val_loss: 0.0169 - val_accuracy: 0.9968 - lr: 1.0000e-05\n",
            "Epoch 35/40\n",
            "981/981 [==============================] - 7s 7ms/step - loss: 0.0082 - accuracy: 0.9973 - val_loss: 0.0168 - val_accuracy: 0.9973 - lr: 1.0000e-05\n",
            "Epoch 36/40\n",
            "981/981 [==============================] - 6s 6ms/step - loss: 0.0064 - accuracy: 0.9980 - val_loss: 0.0167 - val_accuracy: 0.9971 - lr: 1.0000e-05\n",
            "Epoch 37/40\n",
            "981/981 [==============================] - 7s 7ms/step - loss: 0.0062 - accuracy: 0.9978 - val_loss: 0.0170 - val_accuracy: 0.9971 - lr: 1.0000e-05\n",
            "Epoch 38/40\n",
            "981/981 [==============================] - 6s 7ms/step - loss: 0.0078 - accuracy: 0.9977 - val_loss: 0.0168 - val_accuracy: 0.9971 - lr: 1.0000e-05\n",
            "Epoch 39/40\n",
            "981/981 [==============================] - 7s 8ms/step - loss: 0.0078 - accuracy: 0.9975 - val_loss: 0.0168 - val_accuracy: 0.9971 - lr: 1.0000e-05\n",
            "Epoch 40/40\n",
            "981/981 [==============================] - 6s 6ms/step - loss: 0.0087 - accuracy: 0.9973 - val_loss: 0.0168 - val_accuracy: 0.9969 - lr: 1.0000e-05\n"
          ]
        }
      ]
    },
    {
      "cell_type": "code",
      "source": [
        "model.save(\"my_model.h5\")"
      ],
      "metadata": {
        "id": "_gbNDqg7CmpQ"
      },
      "execution_count": null,
      "outputs": []
    },
    {
      "cell_type": "code",
      "source": [],
      "metadata": {
        "id": "emeCAJxS3VHx"
      },
      "execution_count": null,
      "outputs": []
    },
    {
      "cell_type": "code",
      "source": [
        "#plotting graphs for accuracy \n",
        "plt.figure(0)\n",
        "plt.plot(history.history['accuracy'], label='training accuracy')\n",
        "plt.plot(history.history['val_accuracy'], label='val accuracy')\n",
        "plt.title('Accuracy')\n",
        "plt.xlabel('epochs')\n",
        "plt.ylabel('accuracy')\n",
        "plt.legend()\n",
        "plt.show()\n",
        "plt.figure(1)\n",
        "plt.plot(history.history['loss'], label='training loss')\n",
        "plt.plot(history.history['val_loss'], label='val loss')\n",
        "plt.title('Loss')\n",
        "plt.xlabel('epochs')\n",
        "plt.ylabel('loss')\n",
        "plt.legend()\n",
        "plt.show()"
      ],
      "metadata": {
        "colab": {
          "base_uri": "https://localhost:8080/",
          "height": 573
        },
        "id": "bvSSHXcGFMvB",
        "outputId": "6c31b6f7-2403-48f3-cc07-c2b9429af0b9"
      },
      "execution_count": null,
      "outputs": [
        {
          "output_type": "display_data",
          "data": {
            "text/plain": [
              "<Figure size 432x288 with 1 Axes>"
            ],
            "image/png": "[encoded data removed]"
          },
          "metadata": {
            "needs_background": "light"
          }
        },
        {
          "output_type": "display_data",
          "data": {
            "text/plain": [
              "<Figure size 432x288 with 1 Axes>"
            ],
            "image/png": "[encoded data removed]"
          },
          "metadata": {
            "needs_background": "light"
          }
        }
      ]
    },
    {
      "cell_type": "code",
      "source": [],
      "metadata": {
        "id": "2eYGbZcoIwgr"
      },
      "execution_count": null,
      "outputs": []
    },
    {
      "cell_type": "code",
      "source": [
        "# Get 9 random numbers\n",
        "import random\n",
        "rand_img = random.sample(range(len(X_test)), 9)\n",
        "\n",
        "# Get the predicted labels for the test data\n",
        "y_pred = model.predict(X_test)\n",
        "\n",
        "# Plot the images and the predicted labels\n",
        "fig, axs = plt.subplots(3, 3, figsize=(20, 12))\n",
        "axs = axs.ravel()\n",
        "for i in range(9):\n",
        "  # Plot the image\n",
        "  axs[i].imshow(X_test[rand_img[i]], cmap=plt.cm.binary)\n",
        "\n",
        "  # Get the predicted and actual label indices\n",
        "  pred_label = np.argmax(y_pred[rand_img[i]])\n",
        "  true_label = np.argmax(y_test[rand_img[i]])\n",
        "\n",
        "  # Change the color of the titles depending on if the prediction is right or wrong\n",
        "  if pred_label == true_label:\n",
        "     color = \"green\"\n",
        "  else:\n",
        "     color = \"red\"\n",
        "\n",
        "  # Set the label text\n",
        "  axs[i].set_title(\"Pred: {} {:2.0f}% \\n(True: {})\".format(classes[pred_label],\n",
        "                                                   100*tf.reduce_max(y_pred),\n",
        "                                                   classes[true_label]),\n",
        "             color=color) # set the color to green or red\n",
        "  axs[i].axis('off')\n",
        "plt.show()"
      ],
      "metadata": {
        "colab": {
          "base_uri": "https://localhost:8080/",
          "height": 731
        },
        "id": "rY5Aio2eFMwZ",
        "outputId": "be30fe16-45c4-420c-e59c-c39e948f5592"
      },
      "execution_count": null,
      "outputs": [
        {
          "output_type": "stream",
          "name": "stdout",
          "text": [
            "395/395 [==============================] - 1s 3ms/step\n"
          ]
        },
        {
          "output_type": "display_data",
          "data": {
            "text/plain": [
              "<Figure size 1440x864 with 9 Axes>"
            ],
            "image/png": "[encoded data removed]"
          },
          "metadata": {
            "needs_background": "light"
          }
        }
      ]
    },
    {
      "cell_type": "code",
      "source": [],
      "metadata": {
        "id": "1ck5UqWvFM0K"
      },
      "execution_count": null,
      "outputs": []
    },
    {
      "cell_type": "code",
      "source": [],
      "metadata": {
        "id": "dMLdqZw8KG8I"
      },
      "execution_count": null,
      "outputs": []
    },
    {
      "cell_type": "code",
      "source": [],
      "metadata": {
        "id": "vGaeldZEKG_2"
      },
      "execution_count": null,
      "outputs": []
    },
    {
      "cell_type": "code",
      "source": [],
      "metadata": {
        "id": "DUIZskqcKHBL"
      },
      "execution_count": null,
      "outputs": []
    },
    {
      "cell_type": "code",
      "source": [],
      "metadata": {
        "id": "fdrhoGqjKHEk"
      },
      "execution_count": null,
      "outputs": []
    },
    {
      "cell_type": "code",
      "source": [],
      "metadata": {
        "id": "F9HtgNDqKHFj"
      },
      "execution_count": null,
      "outputs": []
    },
    {
      "cell_type": "code",
      "source": [],
      "metadata": {
        "id": "tstebSgX3VI1"
      },
      "execution_count": null,
      "outputs": []
    },
    {
      "cell_type": "code",
      "source": [],
      "metadata": {
        "id": "fPGDcbKd3VMo"
      },
      "execution_count": null,
      "outputs": []
    },
    {
      "cell_type": "code",
      "source": [],
      "metadata": {
        "id": "UMFq0Qf03VNa"
      },
      "execution_count": null,
      "outputs": []
    },
    {
      "cell_type": "code",
      "source": [],
      "metadata": {
        "id": "i_leW4xU3VR3"
      },
      "execution_count": null,
      "outputs": []
    },
    {
      "cell_type": "code",
      "source": [],
      "metadata": {
        "id": "cimQ9ujr3VSt"
      },
      "execution_count": null,
      "outputs": []
    },
    {
      "cell_type": "code",
      "source": [],
      "metadata": {
        "id": "Ifmcs5om3VXn"
      },
      "execution_count": null,
      "outputs": []
    }
  ]
}